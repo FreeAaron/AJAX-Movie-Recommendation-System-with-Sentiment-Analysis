{
 "cells": [
  {
   "cell_type": "code",
   "execution_count": 1,
   "id": "248d253d",
   "metadata": {},
   "outputs": [
    {
     "name": "stdout",
     "output_type": "stream",
     "text": [
      "Collecting Flask==1.1.1\n",
      "  Using cached Flask-1.1.1-py2.py3-none-any.whl (94 kB)\n",
      "Collecting gunicorn==19.9.0\n",
      "  Using cached gunicorn-19.9.0-py2.py3-none-any.whl (112 kB)\n",
      "Collecting Jinja2==2.11.3\n",
      "  Using cached Jinja2-2.11.3-py2.py3-none-any.whl (125 kB)\n",
      "Collecting MarkupSafe==1.1.1\n",
      "  Downloading MarkupSafe-1.1.1-cp38-cp38-win_amd64.whl (16 kB)\n",
      "Collecting Werkzeug==0.15.5\n",
      "  Using cached Werkzeug-0.15.5-py2.py3-none-any.whl (328 kB)\n",
      "Requirement already satisfied: numpy>=1.9.2 in c:\\programdata\\anaconda3\\envs\\python_course\\lib\\site-packages (from -r requirements.txt (line 6)) (1.21.5)\n",
      "Requirement already satisfied: scipy>=0.15.1 in c:\\programdata\\anaconda3\\envs\\python_course\\lib\\site-packages (from -r requirements.txt (line 7)) (1.8.0)\n",
      "Collecting nltk==3.5\n",
      "  Using cached nltk-3.5.zip (1.4 MB)\n",
      "Requirement already satisfied: scikit-learn>=0.18 in c:\\programdata\\anaconda3\\envs\\python_course\\lib\\site-packages (from -r requirements.txt (line 9)) (1.0.2)\n",
      "Requirement already satisfied: pandas>=0.19 in c:\\programdata\\anaconda3\\envs\\python_course\\lib\\site-packages (from -r requirements.txt (line 10)) (1.4.1)\n",
      "Collecting beautifulsoup4==4.9.1\n",
      "  Using cached beautifulsoup4-4.9.1-py3-none-any.whl (115 kB)\n",
      "Requirement already satisfied: jsonschema==3.2.0 in c:\\programdata\\anaconda3\\envs\\python_course\\lib\\site-packages (from -r requirements.txt (line 12)) (3.2.0)\n",
      "Collecting tmdbv3api==1.6.1\n",
      "  Using cached tmdbv3api-1.6.1-py2.py3-none-any.whl (13 kB)\n",
      "Collecting lxml==4.6.3\n",
      "  Downloading lxml-4.6.3-cp38-cp38-win_amd64.whl (3.5 MB)\n",
      "Collecting urllib3==1.26.5\n",
      "  Using cached urllib3-1.26.5-py2.py3-none-any.whl (138 kB)\n",
      "Collecting requests==2.23.0\n",
      "  Using cached requests-2.23.0-py2.py3-none-any.whl (58 kB)\n",
      "Requirement already satisfied: pickleshare==0.7.5 in c:\\programdata\\anaconda3\\envs\\python_course\\lib\\site-packages (from -r requirements.txt (line 17)) (0.7.5)\n",
      "Requirement already satisfied: itsdangerous>=0.24 in c:\\programdata\\anaconda3\\envs\\python_course\\lib\\site-packages (from Flask==1.1.1->-r requirements.txt (line 1)) (2.1.1)\n",
      "Requirement already satisfied: click>=5.1 in c:\\programdata\\anaconda3\\envs\\python_course\\lib\\site-packages (from Flask==1.1.1->-r requirements.txt (line 1)) (8.0.4)\n",
      "Requirement already satisfied: joblib in c:\\programdata\\anaconda3\\envs\\python_course\\lib\\site-packages (from nltk==3.5->-r requirements.txt (line 8)) (1.0.1)\n",
      "Collecting regex\n",
      "  Downloading regex-2022.3.15-cp38-cp38-win_amd64.whl (274 kB)\n",
      "Requirement already satisfied: tqdm in c:\\programdata\\anaconda3\\envs\\python_course\\lib\\site-packages (from nltk==3.5->-r requirements.txt (line 8)) (4.64.0)\n",
      "Requirement already satisfied: soupsieve>1.2 in c:\\programdata\\anaconda3\\envs\\python_course\\lib\\site-packages (from beautifulsoup4==4.9.1->-r requirements.txt (line 11)) (2.3.1)\n",
      "Requirement already satisfied: attrs>=17.4.0 in c:\\programdata\\anaconda3\\envs\\python_course\\lib\\site-packages (from jsonschema==3.2.0->-r requirements.txt (line 12)) (21.4.0)\n",
      "Requirement already satisfied: setuptools in c:\\programdata\\anaconda3\\envs\\python_course\\lib\\site-packages (from jsonschema==3.2.0->-r requirements.txt (line 12)) (58.0.4)\n",
      "Requirement already satisfied: pyrsistent>=0.14.0 in c:\\programdata\\anaconda3\\envs\\python_course\\lib\\site-packages (from jsonschema==3.2.0->-r requirements.txt (line 12)) (0.18.0)\n",
      "Requirement already satisfied: six>=1.11.0 in c:\\programdata\\anaconda3\\envs\\python_course\\lib\\site-packages (from jsonschema==3.2.0->-r requirements.txt (line 12)) (1.16.0)\n",
      "INFO: pip is looking at multiple versions of urllib3 to determine which version is compatible with other requirements. This could take a while.\n",
      "INFO: pip is looking at multiple versions of lxml to determine which version is compatible with other requirements. This could take a while.\n",
      "INFO: pip is looking at multiple versions of tmdbv3api to determine which version is compatible with other requirements. This could take a while.\n",
      "INFO: pip is looking at multiple versions of jsonschema to determine which version is compatible with other requirements. This could take a while.\n",
      "Collecting jsonschema==3.2.0\n",
      "  Using cached jsonschema-3.2.0-py2.py3-none-any.whl (56 kB)\n",
      "INFO: pip is looking at multiple versions of beautifulsoup4 to determine which version is compatible with other requirements. This could take a while.\n",
      "INFO: pip is looking at multiple versions of nltk to determine which version is compatible with other requirements. This could take a while.\n",
      "INFO: pip is looking at multiple versions of werkzeug to determine which version is compatible with other requirements. This could take a while.\n",
      "INFO: pip is looking at multiple versions of markupsafe to determine which version is compatible with other requirements. This could take a while.\n",
      "INFO: pip is looking at multiple versions of jinja2 to determine which version is compatible with other requirements. This could take a while.\n",
      "INFO: pip is looking at multiple versions of gunicorn to determine which version is compatible with other requirements. This could take a while.\n",
      "INFO: pip is looking at multiple versions of <Python from Requires-Python> to determine which version is compatible with other requirements. This could take a while."
     ]
    },
    {
     "name": "stderr",
     "output_type": "stream",
     "text": [
      "ERROR: Cannot install -r requirements.txt (line 16) and urllib3==1.26.5 because these package versions have conflicting dependencies.\n",
      "ERROR: ResolutionImpossible: for help visit https://pip.pypa.io/en/latest/user_guide/#fixing-conflicting-dependencies\n"
     ]
    },
    {
     "name": "stdout",
     "output_type": "stream",
     "text": [
      "\n",
      "INFO: pip is looking at multiple versions of flask to determine which version is compatible with other requirements. This could take a while.\n",
      "\n",
      "The conflict is caused by:\n",
      "    The user requested urllib3==1.26.5\n",
      "    requests 2.23.0 depends on urllib3!=1.25.0, !=1.25.1, <1.26 and >=1.21.1\n",
      "\n",
      "To fix this you could try to:\n",
      "1. loosen the range of package versions you've specified\n",
      "2. remove package versions to allow pip attempt to solve the dependency conflict\n",
      "\n"
     ]
    }
   ],
   "source": [
    "!pip install -r requirements.txt"
   ]
  },
  {
   "cell_type": "code",
   "execution_count": 2,
   "id": "f68d28f2",
   "metadata": {},
   "outputs": [
    {
     "name": "stdout",
     "output_type": "stream",
     "text": [
      "Collecting urllib3==1.26.5\n",
      "  Using cached urllib3-1.26.5-py2.py3-none-any.whl (138 kB)\n",
      "Installing collected packages: urllib3\n",
      "  Attempting uninstall: urllib3\n",
      "    Found existing installation: urllib3 1.26.8\n",
      "    Uninstalling urllib3-1.26.8:\n",
      "      Successfully uninstalled urllib3-1.26.8\n",
      "Successfully installed urllib3-1.26.5\n"
     ]
    }
   ],
   "source": [
    "!pip install urllib3==1.26.5"
   ]
  },
  {
   "cell_type": "code",
   "execution_count": null,
   "id": "f438b1f4",
   "metadata": {},
   "outputs": [],
   "source": []
  }
 ],
 "metadata": {
  "kernelspec": {
   "display_name": "Python 3 (ipykernel)",
   "language": "python",
   "name": "python3"
  },
  "language_info": {
   "codemirror_mode": {
    "name": "ipython",
    "version": 3
   },
   "file_extension": ".py",
   "mimetype": "text/x-python",
   "name": "python",
   "nbconvert_exporter": "python",
   "pygments_lexer": "ipython3",
   "version": "3.8.12"
  }
 },
 "nbformat": 4,
 "nbformat_minor": 5
}
